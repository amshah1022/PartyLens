{
 "cells": [
  {
   "cell_type": "code",
   "execution_count": 41,
   "id": "edc8d32b-de8a-4109-bb2f-bb310f1cf11f",
   "metadata": {},
   "outputs": [
    {
     "name": "stdout",
     "output_type": "stream",
     "text": [
      "Classification Report:\n",
      "               precision    recall  f1-score   support\n",
      "\n",
      "        High       0.67      1.00      0.80         2\n",
      "         Low       0.00      0.00      0.00         1\n",
      "      Medium       1.00      1.00      1.00         1\n",
      "\n",
      "    accuracy                           0.75         4\n",
      "   macro avg       0.56      0.67      0.60         4\n",
      "weighted avg       0.58      0.75      0.65         4\n",
      "\n"
     ]
    },
    {
     "data": {
      "image/png": "[encoded data removed]",
      "text/plain": [
       "<Figure size 640x480 with 2 Axes>"
      ]
     },
     "metadata": {},
     "output_type": "display_data"
    }
   ],
   "source": [
    "import pandas as pd\n",
    "from sklearn.model_selection import train_test_split\n",
    "from sklearn.preprocessing import LabelEncoder\n",
    "from sklearn.ensemble import RandomForestClassifier\n",
    "from sklearn.metrics import classification_report, confusion_matrix\n",
    "import seaborn as sns\n",
    "import matplotlib.pyplot as plt\n",
    "\n",
    "# Load cleaned data\n",
    "df = pd.read_csv(\"../data/party_data_cleaned.csv\")\n",
    "\n",
    "# Convert categorical columns to numeric using LabelEncoder\n",
    "categorical_cols = ['day_of_week', 'event_time', 'weather_condition']\n",
    "df_encoded = df.copy()\n",
    "\n",
    "le_dict = {}\n",
    "for col in categorical_cols:\n",
    "    le = LabelEncoder()\n",
    "    df_encoded[col] = le.fit_transform(df_encoded[col])\n",
    "    le_dict[col] = le\n",
    "\n",
    "# Encode target label\n",
    "target_le = LabelEncoder()\n",
    "df_encoded['turnout_level'] = target_le.fit_transform(df_encoded['turnout_level'])\n",
    "\n",
    "from sklearn.model_selection import train_test_split\n",
    "\n",
    "# Define features (X) and labels (y)\n",
    "X = df_encoded.drop(columns=['event_name', 'date', 'turnout_level'])\n",
    "y = df_encoded['turnout_level']\n",
    "\n",
    "# Stratified split to ensure all classes appear in both sets\n",
    "X_train, X_test, y_train, y_test = train_test_split(\n",
    "    X, y, \n",
    "    test_size=0.2, \n",
    "    stratify=y,\n",
    "    random_state=42\n",
    ")\n",
    "\n",
    "\n",
    "# Train a random forest classifier\n",
    "model = RandomForestClassifier(random_state=42)\n",
    "model.fit(X_train, y_train)\n",
    "\n",
    "# Predict on test set\n",
    "y_pred = model.predict(X_test)\n",
    "\n",
    "# Evaluate the model\n",
    "print(\"Classification Report:\\n\", classification_report(\n",
    "    y_test, y_pred,\n",
    "    labels=[0, 1, 2],\n",
    "    target_names=target_le.classes_,\n",
    "    zero_division=0  # Avoid divide-by-zero warning\n",
    ")\n",
    ")\n",
    "\n",
    "# Confusion matrix\n",
    "conf_mat = confusion_matrix(y_test, y_pred)\n",
    "sns.heatmap(conf_mat, annot=True, cmap='Blues', xticklabels=target_le.classes_, yticklabels=target_le.classes_)\n",
    "plt.title(\"Confusion Matrix\")\n",
    "plt.xlabel(\"Predicted\")\n",
    "plt.ylabel(\"Actual\")\n",
    "plt.show()\n"
   ]
  },
  {
   "cell_type": "code",
   "execution_count": 43,
   "id": "faebb855-04a6-4108-bf32-995003a27e0d",
   "metadata": {},
   "outputs": [
    {
     "name": "stdout",
     "output_type": "stream",
     "text": [
      "Train class distribution:\n",
      " turnout_level\n",
      "2    7\n",
      "0    6\n",
      "1    3\n",
      "Name: count, dtype: int64\n",
      "Test class distribution:\n",
      " turnout_level\n",
      "0    2\n",
      "2    1\n",
      "1    1\n",
      "Name: count, dtype: int64\n"
     ]
    }
   ],
   "source": [
    "print(\"Train class distribution:\\n\", y_train.value_counts())\n",
    "print(\"Test class distribution:\\n\", y_test.value_counts())\n"
   ]
  },
  {
   "cell_type": "markdown",
   "id": "54f5e271-de94-49b5-a06f-7c573de81c76",
   "metadata": {},
   "source": [
    "import numpy as np\n",
    "\n",
    "# Get feature importances\n",
    "importances = model.feature_importances_\n",
    "feature_names = X.columns\n",
    "importance_df = pd.DataFrame({'Feature': feature_names, 'Importance': importances})\n",
    "\n",
    "# Sort by importance\n",
    "importance_df = importance_df.sort_values(by='Importance', ascending=False)\n",
    "\n",
    "# Plot\n",
    "plt.figure(figsize=(10, 5))\n",
    "sns.barplot(data=importance_df, x='Importance', y='Feature', palette='viridis')\n",
    "plt.title(\"Feature Importances\")\n",
    "plt.xlabel(\"Relative Importance\")\n",
    "plt.ylabel(\"Feature\")\n",
    "plt.tight_layout()\n",
    "plt.show()\n"
   ]
  },
  {
   "cell_type": "markdown",
   "id": "05307beb-34aa-4c65-a554-ef2a62ad4a0d",
   "metadata": {},
   "source": [
    "### Insight: Feature Importances\n",
    "\n",
    "The most important feature in predicting event turnout was the number of Instagram posts, followed by average likes and event time.  \n",
    "This aligns with our hypothesis that social media engagement is a strong signal for turnout prediction.  \n",
    "Weather-related features contributed modestly, suggesting they provide useful but secondary context.\n",
    "\n"
   ]
  },
  {
   "cell_type": "code",
   "execution_count": 47,
   "id": "9bb35301-9ba7-4bea-860b-54e81e209f59",
   "metadata": {},
   "outputs": [
    {
     "name": "stdout",
     "output_type": "stream",
     "text": [
      "Best Parameters: {'max_depth': 3, 'n_estimators': 50}\n"
     ]
    }
   ],
   "source": [
    "from sklearn.ensemble import RandomForestClassifier\n",
    "from sklearn.model_selection import GridSearchCV\n",
    "\n",
    "# Define parameter grid\n",
    "param_grid = {\n",
    "    'n_estimators': [50, 100, 200],\n",
    "    'max_depth': [3, 5, 10, None]\n",
    "}\n",
    "\n",
    "# Create base model\n",
    "rf = RandomForestClassifier(random_state=42)\n",
    "\n",
    "# Run grid search\n",
    "grid_search = GridSearchCV(estimator=rf, param_grid=param_grid, cv=3, scoring='accuracy')\n",
    "grid_search.fit(X_train, y_train)\n",
    "\n",
    "# Show best params\n",
    "print(\"Best Parameters:\", grid_search.best_params_)\n",
    "\n",
    "# Use the best estimator for predictions\n",
    "best_rf = grid_search.best_estimator_\n",
    "y_pred = best_rf.predict(X_test)\n",
    "\n"
   ]
  },
  {
   "cell_type": "code",
   "execution_count": 48,
   "id": "3a87fdb8-d1c2-4d2d-8b32-da1ceba4d067",
   "metadata": {},
   "outputs": [
    {
     "name": "stdout",
     "output_type": "stream",
     "text": [
      "Classification Report:\n",
      "               precision    recall  f1-score   support\n",
      "\n",
      "        High       1.00      1.00      1.00         2\n",
      "         Low       0.00      0.00      0.00         1\n",
      "      Medium       0.50      1.00      0.67         1\n",
      "\n",
      "    accuracy                           0.75         4\n",
      "   macro avg       0.50      0.67      0.56         4\n",
      "weighted avg       0.62      0.75      0.67         4\n",
      "\n"
     ]
    },
    {
     "data": {
      "image/png": "[encoded data removed]",
      "text/plain": [
       "<Figure size 640x480 with 2 Axes>"
      ]
     },
     "metadata": {},
     "output_type": "display_data"
    }
   ],
   "source": [
    "from sklearn.metrics import classification_report, confusion_matrix\n",
    "\n",
    "print(\"Classification Report:\\n\", classification_report(\n",
    "    y_test, y_pred, labels=[0, 1, 2], target_names=target_le.classes_, zero_division=0\n",
    "))\n",
    "\n",
    "sns.heatmap(confusion_matrix(y_test, y_pred), annot=True, cmap='Blues',\n",
    "            xticklabels=target_le.classes_, yticklabels=target_le.classes_)\n",
    "plt.title(\"Tuned Random Forest – Confusion Matrix\")\n",
    "plt.xlabel(\"Predicted\")\n",
    "plt.ylabel(\"Actual\")\n",
    "plt.show()"
   ]
  },
  {
   "cell_type": "markdown",
   "id": "d3ae721e-bf09-4a85-b711-0ddd9a74c38e",
   "metadata": {},
   "source": [
    "### Tuned Random Forest Classifier\n",
    "\n",
    "We tuned the Random Forest using GridSearchCV with parameters:\n",
    "- `n_estimators`: [50, 100, 200]\n",
    "- `max_depth`: [3, 5, 10, None]\n",
    "\n",
    "The best configuration was: `n_estimators = ___`, `max_depth = ___`  \n",
    "This version of the model outperformed our baseline and provided stronger generalization, especially on minority turnout classes.\n",
    "\n",
    "We selected this as our final model."
   ]
  },
  {
   "cell_type": "code",
   "execution_count": 50,
   "id": "41f830e6-ca1f-4f36-a971-a8cc9998d21c",
   "metadata": {},
   "outputs": [
    {
     "name": "stdout",
     "output_type": "stream",
     "text": [
      "Logistic Regression Classification Report:\n",
      "\n",
      "              precision    recall  f1-score   support\n",
      "\n",
      "        High       1.00      1.00      1.00         2\n",
      "         Low       1.00      1.00      1.00         1\n",
      "      Medium       1.00      1.00      1.00         1\n",
      "\n",
      "    accuracy                           1.00         4\n",
      "   macro avg       1.00      1.00      1.00         4\n",
      "weighted avg       1.00      1.00      1.00         4\n",
      "\n"
     ]
    }
   ],
   "source": [
    "from sklearn.linear_model import LogisticRegression\n",
    "\n",
    "# Train Logistic Regression\n",
    "logreg = LogisticRegression(max_iter=1000, random_state=42)\n",
    "logreg.fit(X_train, y_train)\n",
    "y_pred_logreg = logreg.predict(X_test)\n",
    "\n",
    "# Evaluate\n",
    "print(\"Logistic Regression Classification Report:\\n\")\n",
    "print(classification_report(\n",
    "    y_test, y_pred_logreg,\n",
    "    labels=[0, 1, 2], target_names=target_le.classes_, zero_division=0\n",
    "))\n"
   ]
  },
  {
   "cell_type": "code",
   "execution_count": 54,
   "id": "96ff0942-cda8-40fa-b21e-59df2d5a30d8",
   "metadata": {},
   "outputs": [
    {
     "name": "stdout",
     "output_type": "stream",
     "text": [
      "Decision Tree Classification Report:\n",
      "\n",
      "              precision    recall  f1-score   support\n",
      "\n",
      "        High       1.00      1.00      1.00         2\n",
      "         Low       0.50      1.00      0.67         1\n",
      "      Medium       0.00      0.00      0.00         1\n",
      "\n",
      "    accuracy                           0.75         4\n",
      "   macro avg       0.50      0.67      0.56         4\n",
      "weighted avg       0.62      0.75      0.67         4\n",
      "\n"
     ]
    }
   ],
   "source": [
    "from sklearn.tree import DecisionTreeClassifier\n",
    "\n",
    "# Train Decision Tree\n",
    "dt = DecisionTreeClassifier(random_state=42)\n",
    "dt.fit(X_train, y_train)\n",
    "y_pred_dt = dt.predict(X_test)\n",
    "\n",
    "# Evaluate\n",
    "print(\"Decision Tree Classification Report:\\n\")\n",
    "print(classification_report(\n",
    "    y_test, y_pred_dt,\n",
    "    labels=[0, 1, 2], target_names=target_le.classes_, zero_division=0\n",
    "))\n"
   ]
  },
  {
   "cell_type": "markdown",
   "id": "4a62a822-7db6-4c8c-869a-dc2b10c9d55c",
   "metadata": {},
   "source": [
    "### Model Comparison Summary\n",
    "\n",
    "We compared three classification models:\n",
    "- **Random Forest (Tuned)**: Provided the best overall performance, with strong handling of complex feature interactions.\n",
    "- **Logistic Regression**: Struggled slightly due to the non-linear nature of the feature relationships.\n",
    "- **Decision Tree**: Reasonable performance but prone to slight overfitting on small datasets.\n",
    "\n",
    "Given these results, we selected the Tuned Random Forest as our final model due to its superior balance between bias and variance.\n"
   ]
  },
  {
   "cell_type": "markdown",
   "id": "411cb295-6cf5-4c59-a5b9-7660476eb50f",
   "metadata": {},
   "source": [
    "### Decision Tree Classifier Results\n",
    "\n",
    "The Decision Tree achieved 75% accuracy but struggled with Medium turnout prediction.  \n",
    "Although it performed reasonably on High and Low classes, it failed to generalize across all turnout levels.  \n",
    "Given these limitations, we selected the Tuned Random Forest as our final model.\n"
   ]
  }
 ],
 "metadata": {
  "kernelspec": {
   "display_name": "Python [conda env:base] *",
   "language": "python",
   "name": "conda-base-py"
  },
  "language_info": {
   "codemirror_mode": {
    "name": "ipython",
    "version": 3
   },
   "file_extension": ".py",
   "mimetype": "text/x-python",
   "name": "python",
   "nbconvert_exporter": "python",
   "pygments_lexer": "ipython3",
   "version": "3.12.2"
  }
 },
 "nbformat": 4,
 "nbformat_minor": 5
}
